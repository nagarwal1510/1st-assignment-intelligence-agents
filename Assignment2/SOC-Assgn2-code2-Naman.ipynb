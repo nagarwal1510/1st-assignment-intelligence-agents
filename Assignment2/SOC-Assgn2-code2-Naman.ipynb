import numpy as np
import random
from random import randint
import matplotlib.pyplot as plt
from google.colab import files
import scipy.signal

x_axis=[]
y_axis=[]
y=0
t=0

for n in range(100):
  x= np.zeros(shape=(50,300))
  x[24][149]=1
  a=1
  m=0
  x_axis.append(y)
  y=y+1
  while(a<=15000):
    v=[]
    for c in range (8):
      d=np.random.randint(0,high=49,size=2)
      e=np.random.randint(0,high=299,size=2)
      j=x[d[0]][e[0]]
      k=x[d[1]][e[1]]
      x[d[0]][e[0]]=k
      x[d[1]][e[1]]=j

    for i in range(50):
      for j in range(300):
        if(x[i][j]==1):
          v.append([i,j])

    for w in v:
      for k in range(-1,2):
        for z in range(-1,2):
          b=random.randint(0,100)
          if(b<25) and (w[0]+y)>=0 and (w[1]+z)>=0:
            if ((w[0]+k)<50 and (w[1]+z)<300):
              x[((w[0]+k)%50),((w[1]+z)%300)]=1



      for u in range(-2,3):
        for s in range(-2,3):
          if((abs(u)+ abs(s)) >2):
            c=random.randint(0,100)
            if((c<8) and ((w[0]-s)>=0) and ((w[1]-u)>=0)):
              if (((w[0]-s)<50) and ((w[1]-u)<300)):
                x[((w[0]-s)%50),((w[1]-u)%300)]=1 

      c=random.randint(0,100)
      if((c<8) and ((w[1]-2)>=0)):
        x[(w[0]%50),((w[1]-2)%150)]=1 
      c=random.randint(0,100)
      if((c<8) and ((w[1]+2)<300)):
        x[(w[0]%50),((w[1]+2)%300)]=1 
      c=random.randint(0,100)
      if((c<8) and ((w[0]+2)<50)):
        x[((w[0]+2)%50),((w[1])%300)]=1
      c=random.randint(0,100)
      if((c<8) and ((w[0]-2)>=0)):
        x[((w[0]-2)%50),((w[1])%300)]=1

    num1=0
    m=m+1      
    for c in range(0,50):
      for d in range (0,300):
        if(x[c][d]==1):
          num1=num1+1    
    a=num1
    if(a==15000):
      q=m
      break
  print(q)
  y_axis.append(q) 
  t=t+q      # linking no. of 1s to y-axis
avg=t/100
print(avg)
test = plt.figure()
plt.plot(x_axis,y_axis)      # linking x-axis & y-axis and also giving names to them
plt.xlabel('no. of runs')
plt.ylabel('no. of iterations')
test.show()      
test.savefig('SOC-assgn2-Plot-2-naman.png')
files.download('SOC-assgn2-Plot-2-naman.png')   
